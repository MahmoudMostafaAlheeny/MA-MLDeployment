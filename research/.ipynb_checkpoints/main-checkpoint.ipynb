{
 "cells": [
  {
   "cell_type": "code",
   "execution_count": 1,
   "metadata": {},
   "outputs": [],
   "source": [
    "import json # will be needed for saving preprocessing details\n",
    "import numpy as np # for data manipulation\n",
    "import pandas as pd # for data manipulation\n",
    "from sklearn.model_selection import train_test_split # will be used for data split\n",
    "from sklearn.preprocessing import LabelEncoder # for preprocessing\n",
    "from sklearn.ensemble import RandomForestClassifier # for training the algorithm\n",
    "from sklearn.ensemble import ExtraTreesClassifier # for training the algorithm\n",
    "import joblib # for saving algorithm and preprocessing objects"
   ]
  },
  {
   "cell_type": "markdown",
   "metadata": {},
   "source": [
    "## First Project: Adult data:"
   ]
  },
  {
   "cell_type": "code",
   "execution_count": 21,
   "metadata": {},
   "outputs": [],
   "source": [
    "# Get the data:\n",
    "main = pd.read_csv('https://raw.githubusercontent.com/pplonski/datasets-for-start/master/adult/data.csv',skipinitialspace=True)\n",
    "\n",
    "# Split the data: \n",
    "y = main.pop('income')\n",
    "x = main\n"
   ]
  },
  {
   "cell_type": "code",
   "execution_count": 22,
   "metadata": {},
   "outputs": [],
   "source": [
    "# Split the data to training and testing:\n",
    "x_train,x_test,y_train,y_test = train_test_split(x,y,test_size=0.25)"
   ]
  },
  {
   "cell_type": "markdown",
   "metadata": {},
   "source": [
    "## Data Preprocessing:"
   ]
  },
  {
   "cell_type": "code",
   "execution_count": 23,
   "metadata": {},
   "outputs": [
    {
     "data": {
      "text/plain": [
       "{'age': 34,\n",
       " 'workclass': 'Private',\n",
       " 'fnlwgt': 113364,\n",
       " 'education': 'HS-grad',\n",
       " 'education-num': 9,\n",
       " 'marital-status': 'Married-civ-spouse',\n",
       " 'occupation': 'Prof-specialty',\n",
       " 'relationship': 'Husband',\n",
       " 'race': 'White',\n",
       " 'sex': 'Male',\n",
       " 'capital-gain': 0,\n",
       " 'capital-loss': 0,\n",
       " 'hours-per-week': 40,\n",
       " 'native-country': 'United-States'}"
      ]
     },
     "execution_count": 23,
     "metadata": {},
     "output_type": "execute_result"
    }
   ],
   "source": [
    "## handle missing values: \n",
    "train_mode = dict(x_train.mode().iloc[0])\n",
    "x_train = x_train.fillna(train_mode)\n",
    "train_mode"
   ]
  },
  {
   "cell_type": "code",
   "execution_count": 24,
   "metadata": {},
   "outputs": [
    {
     "data": {
      "text/plain": [
       "Index(['age', 'workclass', 'fnlwgt', 'education', 'education-num',\n",
       "       'marital-status', 'occupation', 'relationship', 'race', 'sex',\n",
       "       'capital-gain', 'capital-loss', 'hours-per-week', 'native-country'],\n",
       "      dtype='object')"
      ]
     },
     "execution_count": 24,
     "metadata": {},
     "output_type": "execute_result"
    }
   ],
   "source": [
    "x_train.columns"
   ]
  },
  {
   "cell_type": "code",
   "execution_count": 25,
   "metadata": {},
   "outputs": [
    {
     "data": {
      "text/plain": [
       "{'workclass': LabelEncoder(),\n",
       " 'education': LabelEncoder(),\n",
       " 'marital-status': LabelEncoder(),\n",
       " 'occupation': LabelEncoder(),\n",
       " 'relationship': LabelEncoder(),\n",
       " 'race': LabelEncoder(),\n",
       " 'sex': LabelEncoder(),\n",
       " 'native-country': LabelEncoder()}"
      ]
     },
     "execution_count": 25,
     "metadata": {},
     "output_type": "execute_result"
    }
   ],
   "source": [
    "# Categorical variables handling: \n",
    "encoders= {}\n",
    "\n",
    "categorical_cols = ['workclass', 'education','marital-status', 'occupation', \n",
    "                    'relationship', 'race', 'sex','native-country']\n",
    "\n",
    "for col in categorical_cols:\n",
    "    cat_encoder = LabelEncoder()\n",
    "    x_train[col] = cat_encoder.fit_transform(x_train[col])\n",
    "    encoders[col] = cat_encoder\n",
    "encoders"
   ]
  },
  {
   "cell_type": "code",
   "execution_count": 26,
   "metadata": {},
   "outputs": [
    {
     "data": {
      "text/html": [
       "<div>\n",
       "<style scoped>\n",
       "    .dataframe tbody tr th:only-of-type {\n",
       "        vertical-align: middle;\n",
       "    }\n",
       "\n",
       "    .dataframe tbody tr th {\n",
       "        vertical-align: top;\n",
       "    }\n",
       "\n",
       "    .dataframe thead th {\n",
       "        text-align: right;\n",
       "    }\n",
       "</style>\n",
       "<table border=\"1\" class=\"dataframe\">\n",
       "  <thead>\n",
       "    <tr style=\"text-align: right;\">\n",
       "      <th></th>\n",
       "      <th>age</th>\n",
       "      <th>workclass</th>\n",
       "      <th>fnlwgt</th>\n",
       "      <th>education</th>\n",
       "      <th>education-num</th>\n",
       "      <th>marital-status</th>\n",
       "      <th>occupation</th>\n",
       "      <th>relationship</th>\n",
       "      <th>race</th>\n",
       "      <th>sex</th>\n",
       "      <th>capital-gain</th>\n",
       "      <th>capital-loss</th>\n",
       "      <th>hours-per-week</th>\n",
       "      <th>native-country</th>\n",
       "    </tr>\n",
       "  </thead>\n",
       "  <tbody>\n",
       "    <tr>\n",
       "      <th>9316</th>\n",
       "      <td>47</td>\n",
       "      <td>3</td>\n",
       "      <td>161558</td>\n",
       "      <td>0</td>\n",
       "      <td>6</td>\n",
       "      <td>3</td>\n",
       "      <td>13</td>\n",
       "      <td>1</td>\n",
       "      <td>2</td>\n",
       "      <td>1</td>\n",
       "      <td>0</td>\n",
       "      <td>0</td>\n",
       "      <td>45</td>\n",
       "      <td>38</td>\n",
       "    </tr>\n",
       "    <tr>\n",
       "      <th>7731</th>\n",
       "      <td>37</td>\n",
       "      <td>3</td>\n",
       "      <td>210945</td>\n",
       "      <td>11</td>\n",
       "      <td>9</td>\n",
       "      <td>2</td>\n",
       "      <td>5</td>\n",
       "      <td>0</td>\n",
       "      <td>4</td>\n",
       "      <td>1</td>\n",
       "      <td>0</td>\n",
       "      <td>0</td>\n",
       "      <td>24</td>\n",
       "      <td>38</td>\n",
       "    </tr>\n",
       "    <tr>\n",
       "      <th>14671</th>\n",
       "      <td>37</td>\n",
       "      <td>3</td>\n",
       "      <td>186434</td>\n",
       "      <td>11</td>\n",
       "      <td>9</td>\n",
       "      <td>2</td>\n",
       "      <td>7</td>\n",
       "      <td>0</td>\n",
       "      <td>2</td>\n",
       "      <td>1</td>\n",
       "      <td>0</td>\n",
       "      <td>0</td>\n",
       "      <td>40</td>\n",
       "      <td>38</td>\n",
       "    </tr>\n",
       "    <tr>\n",
       "      <th>30736</th>\n",
       "      <td>39</td>\n",
       "      <td>3</td>\n",
       "      <td>176335</td>\n",
       "      <td>12</td>\n",
       "      <td>14</td>\n",
       "      <td>2</td>\n",
       "      <td>3</td>\n",
       "      <td>0</td>\n",
       "      <td>4</td>\n",
       "      <td>1</td>\n",
       "      <td>7688</td>\n",
       "      <td>0</td>\n",
       "      <td>65</td>\n",
       "      <td>38</td>\n",
       "    </tr>\n",
       "    <tr>\n",
       "      <th>848</th>\n",
       "      <td>39</td>\n",
       "      <td>3</td>\n",
       "      <td>138192</td>\n",
       "      <td>9</td>\n",
       "      <td>13</td>\n",
       "      <td>2</td>\n",
       "      <td>2</td>\n",
       "      <td>0</td>\n",
       "      <td>4</td>\n",
       "      <td>1</td>\n",
       "      <td>0</td>\n",
       "      <td>0</td>\n",
       "      <td>40</td>\n",
       "      <td>38</td>\n",
       "    </tr>\n",
       "  </tbody>\n",
       "</table>\n",
       "</div>"
      ],
      "text/plain": [
       "       age  workclass  fnlwgt  education  education-num  marital-status  \\\n",
       "9316    47          3  161558          0              6               3   \n",
       "7731    37          3  210945         11              9               2   \n",
       "14671   37          3  186434         11              9               2   \n",
       "30736   39          3  176335         12             14               2   \n",
       "848     39          3  138192          9             13               2   \n",
       "\n",
       "       occupation  relationship  race  sex  capital-gain  capital-loss  \\\n",
       "9316           13             1     2    1             0             0   \n",
       "7731            5             0     4    1             0             0   \n",
       "14671           7             0     2    1             0             0   \n",
       "30736           3             0     4    1          7688             0   \n",
       "848             2             0     4    1             0             0   \n",
       "\n",
       "       hours-per-week  native-country  \n",
       "9316               45              38  \n",
       "7731               24              38  \n",
       "14671              40              38  \n",
       "30736              65              38  \n",
       "848                40              38  "
      ]
     },
     "execution_count": 26,
     "metadata": {},
     "output_type": "execute_result"
    }
   ],
   "source": [
    "x_train.head()"
   ]
  },
  {
   "cell_type": "code",
   "execution_count": 27,
   "metadata": {},
   "outputs": [
    {
     "data": {
      "text/plain": [
       "RandomForestClassifier()"
      ]
     },
     "execution_count": 27,
     "metadata": {},
     "output_type": "execute_result"
    }
   ],
   "source": [
    "# train random forest: \n",
    "rf = RandomForestClassifier(n_estimators=100) \n",
    "rf.fit(x_train,y_train)"
   ]
  },
  {
   "cell_type": "code",
   "execution_count": 28,
   "metadata": {},
   "outputs": [
    {
     "data": {
      "text/plain": [
       "ExtraTreesClassifier()"
      ]
     },
     "execution_count": 28,
     "metadata": {},
     "output_type": "execute_result"
    }
   ],
   "source": [
    "# train extra tree classifier: \n",
    "et = ExtraTreesClassifier(n_estimators=100)\n",
    "et.fit(x_train,y_train)"
   ]
  },
  {
   "cell_type": "code",
   "execution_count": 29,
   "metadata": {},
   "outputs": [
    {
     "data": {
      "text/plain": [
       "['./ExtraTrees.joblib']"
      ]
     },
     "execution_count": 29,
     "metadata": {},
     "output_type": "execute_result"
    }
   ],
   "source": [
    "# Save our work:\n",
    "joblib.dump(train_mode,\"./train_mode.joblib\",compress=True)\n",
    "joblib.dump(encoders,\"./encoders.joblib\",compress=True)\n",
    "joblib.dump(rf,\"./RandomForest.joblib\",compress=True)\n",
    "joblib.dump(et,\"./ExtraTrees.joblib\",compress=True)\n"
   ]
  },
  {
   "cell_type": "code",
   "execution_count": null,
   "metadata": {},
   "outputs": [],
   "source": []
  }
 ],
 "metadata": {
  "kernelspec": {
   "display_name": "Python 3",
   "language": "python",
   "name": "python3"
  },
  "language_info": {
   "codemirror_mode": {
    "name": "ipython",
    "version": 3
   },
   "file_extension": ".py",
   "mimetype": "text/x-python",
   "name": "python",
   "nbconvert_exporter": "python",
   "pygments_lexer": "ipython3",
   "version": "3.8.5"
  }
 },
 "nbformat": 4,
 "nbformat_minor": 4
}
